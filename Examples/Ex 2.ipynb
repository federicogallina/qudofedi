{
 "cells": [
  {
   "cell_type": "markdown",
   "id": "612d394a",
   "metadata": {},
   "source": [
    "# Third-order Ground-State Bleaching spectra of a monomer system"
   ]
  },
  {
   "cell_type": "markdown",
   "id": "35f0a70c",
   "metadata": {},
   "source": [
    "Importing useful classes, methods and modules:"
   ]
  },
  {
   "cell_type": "code",
   "execution_count": null,
   "id": "087526f3",
   "metadata": {},
   "outputs": [],
   "source": [
    "from qudofedi import Qjob, FeynmanDiagram, System, PostProcess\n",
    "from qutip import sigmaz\n",
    "from qiskit import Aer\n",
    "import numpy as np"
   ]
  },
  {
   "cell_type": "markdown",
   "id": "6ba39ff8",
   "metadata": {},
   "source": [
    "System parameters:"
   ]
  },
  {
   "cell_type": "code",
   "execution_count": null,
   "id": "f14bb428",
   "metadata": {},
   "outputs": [],
   "source": [
    "e = 1.55                                     # Electronic energy gap [eV]\n",
    "H = - e / 2 * sigmaz()                       # Hamiltonian of the system [eV]\n",
    "\n",
    "mu = 1                                       # Electric dipole moment [a.u.]\n",
    "\n",
    "system = System(H, mu)                       # System object"
   ]
  },
  {
   "cell_type": "markdown",
   "id": "1b5916b5",
   "metadata": {},
   "source": [
    "Spectroscopy parameters:"
   ]
  },
  {
   "cell_type": "code",
   "execution_count": null,
   "id": "d4332f1c",
   "metadata": {},
   "outputs": [],
   "source": [
    "t_1_min = 0.                                 # Initial delay time (t1) [rad/eV]\n",
    "t_1_max = 151.                               # Final delay time (t1) [rad/eV]\n",
    "dt_1 = 15.                                   # Delta delay time (t1) [rad/eV]\n",
    "t_1 = np.arange(t_1_min, t_1_max, dt_1)      # Delay time list (t1) [rad/eV]\n",
    "\n",
    "t_2 = [0]                                    # Delay time list (t2) [rad/eV]\n",
    "\n",
    "t_3_min = 0.                                 # Initial delay time (t3) [rad/eV]\n",
    "t_3_max = 151.                               # Final delay time (t3) [rad/eV]\n",
    "dt_3 = 15.                                   # Delta delay time (t3) [rad/eV]\n",
    "t_3 = np.arange(t_3_min, t_3_max, dt_3)      # Delay time list (t3) [rad/eV]\n",
    "\n",
    "t_list = [t_1, t_2, t_3]                     # List of delay times (t1, t2, t3) [rad/eV]\n",
    "\n",
    "FD = FeynmanDiagram('gsb', t_list)           # FeynmanDiagram object"
   ]
  },
  {
   "cell_type": "markdown",
   "id": "adb4907e",
   "metadata": {},
   "source": [
    "IBM Quantum backend:"
   ]
  },
  {
   "cell_type": "code",
   "execution_count": null,
   "id": "dcfa75a5",
   "metadata": {},
   "outputs": [],
   "source": [
    "backend = Aer.get_backend('qasm_simulator')"
   ]
  },
  {
   "cell_type": "code",
   "execution_count": null,
   "id": "5f63c93e",
   "metadata": {},
   "outputs": [],
   "source": [
    "# from qiskit_ibm_provider import IBMProvider\n",
    "# \n",
    "# provider = IBMProvider(instance='ibm-q/open/main')\n",
    "# backend = provider.get_backend('ibmq_manila')"
   ]
  },
  {
   "cell_type": "markdown",
   "id": "8cde99f3",
   "metadata": {},
   "source": [
    "Create the Qjob object and getting the response function:"
   ]
  },
  {
   "cell_type": "code",
   "execution_count": null,
   "id": "40a80531",
   "metadata": {},
   "outputs": [],
   "source": [
    "job = Qjob(system, FD)                       # Qjob object\n",
    "\n",
    "response = job.run(backend,\n",
    "                   shots = 4000,\n",
    "                   save_Qjob = True,\n",
    "                   save_name = 'example_gsb_TLS',\n",
    "                   save_checkpoint = True,\n",
    "                  )                          # Run the simulation returning a numpy.ndarray with the results"
   ]
  },
  {
   "cell_type": "markdown",
   "id": "dd77c699",
   "metadata": {},
   "source": [
    "Post-processing the results (rotating frame, exponential damping, zero-padding) to obtain the time oscillation and frequency spectra:"
   ]
  },
  {
   "cell_type": "code",
   "execution_count": null,
   "id": "713e4f7a",
   "metadata": {},
   "outputs": [],
   "source": [
    "PostProcess(job,\n",
    "            RF_freq = 1.505,\n",
    "            damping_rate = 29.54 * 10**(-3),\n",
    "            pad = 3,\n",
    "           )                                 # Post-process and print the results"
   ]
  },
  {
   "cell_type": "markdown",
   "id": "2492cce8",
   "metadata": {},
   "source": [
    "## Adding readout-error mitigation"
   ]
  },
  {
   "cell_type": "code",
   "execution_count": null,
   "id": "dbec53b4",
   "metadata": {},
   "outputs": [],
   "source": [
    "from qiskit.utils.mitigation import CompleteMeasFitter\n",
    "from qiskit_ibm_provider import IBMProvider"
   ]
  },
  {
   "cell_type": "markdown",
   "id": "abe1ed03",
   "metadata": {},
   "source": [
    "Select a real quantum processor:"
   ]
  },
  {
   "cell_type": "code",
   "execution_count": null,
   "id": "67c2cbc3",
   "metadata": {},
   "outputs": [],
   "source": [
    "provider = IBMProvider(instance='ibm-q/open/main')\n",
    "real_backend = provider.get_backend('ibmq_manila')"
   ]
  },
  {
   "cell_type": "markdown",
   "id": "c47fdd34",
   "metadata": {},
   "source": [
    "Create the noise model (not necessary if using the real_backend as the backend of computation):"
   ]
  },
  {
   "cell_type": "code",
   "execution_count": null,
   "id": "6d6a1d15",
   "metadata": {},
   "outputs": [],
   "source": [
    "from qiskit_aer.noise.noise_model import NoiseModel\n",
    "\n",
    "noise_model = NoiseModel().from_backend(real_backend)"
   ]
  },
  {
   "cell_type": "markdown",
   "id": "b585d7a8",
   "metadata": {},
   "source": [
    "Create the Qjob object and getting the response function:"
   ]
  },
  {
   "cell_type": "code",
   "execution_count": null,
   "id": "c6370731",
   "metadata": {},
   "outputs": [],
   "source": [
    "job = Qjob(system, FD)                       # Qjob object\n",
    "\n",
    "response = job.run(backend,\n",
    "                   shots = 4000,\n",
    "                   save_Qjob = True,\n",
    "                   save_name = 'example_gsb_TLS_mitigation',\n",
    "                   save_checkpoint = True,\n",
    "                   noise_model = noise_model,\n",
    "                   coupling_map = real_backend.configuration().coupling_map,\n",
    "                   initial_layout = [1, 2],    # An initial_layout specification is necessary to not get errors in Qiskit\n",
    "                   measurement_error_mitigation_cls=CompleteMeasFitter,\n",
    "                   measurement_error_mitigation_shots = 4000,\n",
    "                  )                          # Run the simulation returning a numpy.ndarray with the results"
   ]
  },
  {
   "cell_type": "code",
   "execution_count": null,
   "id": "9b581ec1",
   "metadata": {},
   "outputs": [],
   "source": [
    "# For readout-error mitigation on a real device:\n",
    "#\n",
    "# job = Qjob(system, FD)                       # Qjob object\n",
    "#\n",
    "# response = job.run(backend,\n",
    "#                    shots = 4000,\n",
    "#                    save_Qjob = True,\n",
    "#                    save_name = 'example_gsb_TLS_mitigation',\n",
    "#                    save_checkpoint = True,\n",
    "#                    initial_layout = [1, 2],    # An initial_layout specification is necessary to not get errors in Qiskit\n",
    "#                    measurement_error_mitigation_cls=CompleteMeasFitter,\n",
    "#                    measurement_error_mitigation_shots = 4000,\n",
    "#                   )                          # Run the simulation returning a numpy.ndarray with the results"
   ]
  },
  {
   "cell_type": "markdown",
   "id": "3b954374",
   "metadata": {},
   "source": [
    "Post-processing the results (rotating frame, exponential damping, zero-padding) to obtain the time oscillation and frequency spectra:"
   ]
  },
  {
   "cell_type": "code",
   "execution_count": null,
   "id": "79492f8f",
   "metadata": {},
   "outputs": [],
   "source": [
    "PostProcess(job,\n",
    "            RF_freq = 1.505,\n",
    "            damping_rate = 29.54 * 10**(-3),\n",
    "            pad = 3,\n",
    "           )                                 # Post-process and print the results"
   ]
  }
 ],
 "metadata": {
  "kernelspec": {
   "display_name": "Python 3 (ipykernel)",
   "language": "python",
   "name": "python3"
  },
  "language_info": {
   "codemirror_mode": {
    "name": "ipython",
    "version": 3
   },
   "file_extension": ".py",
   "mimetype": "text/x-python",
   "name": "python",
   "nbconvert_exporter": "python",
   "pygments_lexer": "ipython3",
   "version": "3.10.12"
  }
 },
 "nbformat": 4,
 "nbformat_minor": 5
}
