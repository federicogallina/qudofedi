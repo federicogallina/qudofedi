{
 "cells": [
  {
   "cell_type": "markdown",
   "id": "612d394a",
   "metadata": {},
   "source": [
    "# Third-order Ground-State Bleaching spectra of a monomer system"
   ]
  },
  {
   "cell_type": "markdown",
   "id": "35f0a70c",
   "metadata": {},
   "source": [
    "Importing useful classes, methods and modules:"
   ]
  },
  {
   "cell_type": "code",
   "execution_count": null,
   "id": "087526f3",
   "metadata": {},
   "outputs": [],
   "source": [
    "from qudofedi import Qjob, FeynmanDiagram, System, PostProcess\n",
    "from qutip import sigmaz\n",
    "from qiskit import Aer\n",
    "import numpy as np"
   ]
  },
  {
   "cell_type": "markdown",
   "id": "6ba39ff8",
   "metadata": {},
   "source": [
    "System parameters:"
   ]
  },
  {
   "cell_type": "code",
   "execution_count": null,
   "id": "f14bb428",
   "metadata": {},
   "outputs": [],
   "source": [
    "e = 1.55                                     # Electronic energy gap [eV]\n",
    "H = - e / 2 * sigmaz()                       # Hamiltonian of the system [eV]\n",
    "\n",
    "mu = 1                                       # Electric dipole moment [a.u.]\n",
    "\n",
    "system = System(H, mu)                       # System object"
   ]
  },
  {
   "cell_type": "markdown",
   "id": "1b5916b5",
   "metadata": {},
   "source": [
    "Spectroscopy parameters:"
   ]
  },
  {
   "cell_type": "code",
   "execution_count": null,
   "id": "d4332f1c",
   "metadata": {},
   "outputs": [],
   "source": [
    "t_1_min = 0.                                 # Initial delay time (t1) [rad/eV]\n",
    "t_1_max = 151.                               # Final delay time (t1) [rad/eV]\n",
    "dt_1 = 15.                                   # Delta delay time (t1) [rad/eV]\n",
    "t_1 = np.arange(t_1_min, t_1_max, dt_1)      # Delay time list (t1) [rad/eV]\n",
    "\n",
    "t_2 = [0]                                    # Delay time list (t2) [rad/eV]\n",
    "\n",
    "t_3_min = 0.                                 # Initial delay time (t3) [rad/eV]\n",
    "t_3_max = 151.                               # Final delay time (t3) [rad/eV]\n",
    "dt_3 = 15.                                   # Delta delay time (t3) [rad/eV]\n",
    "t_3 = np.arange(t_3_min, t_3_max, dt_3)      # Delay time list (t3) [rad/eV]\n",
    "\n",
    "t_list = [t_1, t_2, t_3]                     # List of delay times (t1, t2, t3) [rad/eV]\n",
    "\n",
    "FD = FeynmanDiagram('gsb', t_list)           # FeynmanDiagram object"
   ]
  },
  {
   "cell_type": "markdown",
   "id": "adb4907e",
   "metadata": {},
   "source": [
    "IBM Quantum backend:"
   ]
  },
  {
   "cell_type": "code",
   "execution_count": null,
   "id": "dcfa75a5",
   "metadata": {},
   "outputs": [],
   "source": [
    "backend = Aer.get_backend('qasm_simulator')"
   ]
  },
  {
   "cell_type": "code",
   "execution_count": null,
   "id": "5f63c93e",
   "metadata": {},
   "outputs": [],
   "source": [
    "# from qiskit_ibm_provider import IBMProvider\n",
    "# \n",
    "# provider = IBMProvider(instance='ibm-q/open/main')\n",
    "# backend = provider.get_backend('ibmq_manila')"
   ]
  },
  {
   "cell_type": "markdown",
   "id": "8cde99f3",
   "metadata": {},
   "source": [
    "Create the Qjob object and getting the response function:"
   ]
  },
  {
   "cell_type": "code",
   "execution_count": null,
   "id": "40a80531",
   "metadata": {},
   "outputs": [],
   "source": [
    "job = Qjob(system, FD)                       # Qjob object\n",
    "\n",
    "response = job.run(backend,\n",
    "                   shots = 4000,\n",
    "                   save_Qjob = True,\n",
    "                   save_name = 'example_gsb_TLS',\n",
    "                   save_checkpoint = True,\n",
    "                  )                          # Run the simulation returning a numpy.ndarray with the results"
   ]
  },
  {
   "cell_type": "markdown",
   "id": "dd77c699",
   "metadata": {},
   "source": [
    "Post-processing the results (rotating frame, exponential damping, zero-padding) to obtain the time oscillation and frequency spectra:"
   ]
  },
  {
   "cell_type": "code",
   "execution_count": null,
   "id": "713e4f7a",
   "metadata": {},
   "outputs": [],
   "source": [
    "PostProcess(job,\n",
    "            RF_freq = 1.505,\n",
    "            damping_rate = 29.54 * 10**(-3),\n",
    "            pad = 3,\n",
    "           )                                 # Post-process and print the results"
   ]
  }
 ],
 "metadata": {
  "kernelspec": {
   "display_name": "Python 3 (ipykernel)",
   "language": "python",
   "name": "python3"
  },
  "language_info": {
   "codemirror_mode": {
    "name": "ipython",
    "version": 3
   },
   "file_extension": ".py",
   "mimetype": "text/x-python",
   "name": "python",
   "nbconvert_exporter": "python",
   "pygments_lexer": "ipython3",
   "version": "3.10.11"
  }
 },
 "nbformat": 4,
 "nbformat_minor": 5
}
