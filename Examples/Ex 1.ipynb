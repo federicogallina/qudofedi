{
 "cells": [
  {
   "cell_type": "markdown",
   "id": "a2c24989",
   "metadata": {},
   "source": [
    "# Linear spectra of a monomer system"
   ]
  },
  {
   "cell_type": "markdown",
   "id": "8460b29a",
   "metadata": {},
   "source": [
    "Importing useful classes, methods and modules:"
   ]
  },
  {
   "cell_type": "code",
   "execution_count": null,
   "id": "ae9e5b78",
   "metadata": {},
   "outputs": [],
   "source": [
    "from qudofedi import Qjob, FeynmanDiagram, System, PostProcess\n",
    "from qutip import sigmaz\n",
    "from qiskit import Aer\n",
    "import numpy as np"
   ]
  },
  {
   "cell_type": "markdown",
   "id": "56a7d8cc",
   "metadata": {},
   "source": [
    "System parameters:"
   ]
  },
  {
   "cell_type": "code",
   "execution_count": null,
   "id": "607e563c",
   "metadata": {},
   "outputs": [],
   "source": [
    "e = 1.55                                     # Electronic energy gap [eV]\n",
    "H = - e / 2 * sigmaz()                       # Hamiltonian of the system [eV]\n",
    "\n",
    "mu = 1                                       # Electric dipole moment [a.u.]\n",
    "\n",
    "system = System(H, mu)                       # System object"
   ]
  },
  {
   "cell_type": "markdown",
   "id": "cfb01ad9",
   "metadata": {},
   "source": [
    "Spectroscopy parameters:"
   ]
  },
  {
   "cell_type": "code",
   "execution_count": null,
   "id": "f21d0692",
   "metadata": {},
   "outputs": [],
   "source": [
    "t_min = 0.                                   # Initial time [rad/eV]\n",
    "t_max = 151.                                 # Final time [rad/eV]\n",
    "dt = 5.                                      # Delta time [rad/eV]\n",
    "t_list = np.arange(t_min, t_max, dt)         # Time list [rad/eV]\n",
    "                 \n",
    "FD = FeynmanDiagram('a', t_list)             # FeynmanDiagram object"
   ]
  },
  {
   "cell_type": "markdown",
   "id": "d16424ac",
   "metadata": {},
   "source": [
    "IBM Quantum backend:"
   ]
  },
  {
   "cell_type": "code",
   "execution_count": null,
   "id": "df4fff94",
   "metadata": {},
   "outputs": [],
   "source": [
    "backend = Aer.get_backend('qasm_simulator')"
   ]
  },
  {
   "cell_type": "code",
   "execution_count": null,
   "id": "29fc0d8a",
   "metadata": {},
   "outputs": [],
   "source": [
    "# from qiskit_ibm_provider import IBMProvider\n",
    "# \n",
    "# provider = IBMProvider(instance='ibm-q/open/main')\n",
    "# backend = provider.get_backend('ibmq_manila')"
   ]
  },
  {
   "cell_type": "markdown",
   "id": "22ce1668",
   "metadata": {},
   "source": [
    "Create the Qjob object and getting the response function:"
   ]
  },
  {
   "cell_type": "code",
   "execution_count": null,
   "id": "34e54498",
   "metadata": {},
   "outputs": [],
   "source": [
    "job = Qjob(system, FD)                       # Qjob object\n",
    "\n",
    "response = job.run(backend,\n",
    "                   shots = 4000,\n",
    "                   save_Qjob = True,\n",
    "                   save_name = 'example_a_TLS',\n",
    "                   save_checkpoint = True,\n",
    "                  )                          # Run the simulation returning a numpy.ndarray with the results"
   ]
  },
  {
   "cell_type": "markdown",
   "id": "6ef9ad06",
   "metadata": {},
   "source": [
    "Post-processing the results (rotating frame, exponential damping, zero-padding) to obtain the time oscillation and frequency spectra:"
   ]
  },
  {
   "cell_type": "code",
   "execution_count": null,
   "id": "4d6b8b0d",
   "metadata": {},
   "outputs": [],
   "source": [
    "PostProcess(job,\n",
    "            RF_freq = 1.505,\n",
    "            damping_rate = 29.54 * 10**(-3),\n",
    "            pad = 3,\n",
    "           )                                 # Post-process and print the results"
   ]
  },
  {
   "cell_type": "code",
   "execution_count": null,
   "id": "599343c0",
   "metadata": {},
   "outputs": [],
   "source": []
  }
 ],
 "metadata": {
  "kernelspec": {
   "display_name": "Python 3 (ipykernel)",
   "language": "python",
   "name": "python3"
  },
  "language_info": {
   "codemirror_mode": {
    "name": "ipython",
    "version": 3
   },
   "file_extension": ".py",
   "mimetype": "text/x-python",
   "name": "python",
   "nbconvert_exporter": "python",
   "pygments_lexer": "ipython3",
   "version": "3.10.11"
  }
 },
 "nbformat": 4,
 "nbformat_minor": 5
}
