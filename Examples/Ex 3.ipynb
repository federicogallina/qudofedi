{
 "cells": [
  {
   "cell_type": "markdown",
   "id": "a2c24989",
   "metadata": {},
   "source": [
    "# Linear spectra of a dimer system"
   ]
  },
  {
   "cell_type": "markdown",
   "id": "8460b29a",
   "metadata": {},
   "source": [
    "Importing useful classes, methods and modules:"
   ]
  },
  {
   "cell_type": "code",
   "execution_count": null,
   "id": "ae9e5b78",
   "metadata": {},
   "outputs": [],
   "source": [
    "from qudofedi import Qjob, FeynmanDiagram, System, PostProcess\n",
    "from qutip import sigmax, sigmaz, sigmay, tensor, identity\n",
    "from qiskit import Aer\n",
    "import numpy as np"
   ]
  },
  {
   "cell_type": "markdown",
   "id": "56a7d8cc",
   "metadata": {},
   "source": [
    "System parameters:"
   ]
  },
  {
   "cell_type": "code",
   "execution_count": null,
   "id": "607e563c",
   "metadata": {},
   "outputs": [],
   "source": [
    "e_1 = 1.55                                   # Electronic energy gap for monomer 1 [eV]\n",
    "e_2 = 1.46                                   # Electronic energy gap for monomer 2 [eV]\n",
    "J = -0.01                                    # Exciton coupling [eV]\n",
    "H = (- e_1 / 2 * tensor(sigmaz(), identity(2))\n",
    "     - e_2 / 2 * tensor(identity(2), sigmaz())\n",
    "     + J / 2 * ( tensor(sigmax(), sigmax())\n",
    "                + tensor(sigmay(), sigmay()))\n",
    "    )                                        # Hamiltonian of the dimer system [eV]\n",
    "\n",
    "mu_1 = 1.                                    # Electric dipole moment for monomer 1 [a.u.]\n",
    "mu_2 = 1.                                    # Electric dipole moment for monomer 2 [a.u.]\n",
    "\n",
    "system = System(H, [mu_1, mu_2])             # System object"
   ]
  },
  {
   "cell_type": "markdown",
   "id": "cfb01ad9",
   "metadata": {},
   "source": [
    "Spectroscopy parameters:"
   ]
  },
  {
   "cell_type": "code",
   "execution_count": null,
   "id": "f21d0692",
   "metadata": {},
   "outputs": [],
   "source": [
    "t_min = 0.                                   # Initial time [rad/eV]\n",
    "t_max = 201.                                 # Final time [rad/eV]\n",
    "dt = 10.                                     # Delta time [rad/eV]\n",
    "t_list = np.arange(t_min, t_max, dt)         # Time list [rad/eV]\n",
    "                 \n",
    "FD = FeynmanDiagram('a', t_list)             # FeynmanDiagram object"
   ]
  },
  {
   "cell_type": "markdown",
   "id": "d16424ac",
   "metadata": {},
   "source": [
    "IBM Quantum backend:"
   ]
  },
  {
   "cell_type": "code",
   "execution_count": null,
   "id": "df4fff94",
   "metadata": {},
   "outputs": [],
   "source": [
    "backend = Aer.get_backend('qasm_simulator')"
   ]
  },
  {
   "cell_type": "code",
   "execution_count": null,
   "id": "29fc0d8a",
   "metadata": {},
   "outputs": [],
   "source": [
    "# from qiskit_ibm_provider import IBMProvider\n",
    "# \n",
    "# provider = IBMProvider(instance='ibm-q/open/main')\n",
    "# backend = provider.get_backend('ibmq_manila')"
   ]
  },
  {
   "cell_type": "markdown",
   "id": "22ce1668",
   "metadata": {},
   "source": [
    "Create the Qjob object and getting the response function:"
   ]
  },
  {
   "cell_type": "code",
   "execution_count": null,
   "id": "34e54498",
   "metadata": {},
   "outputs": [],
   "source": [
    "job = Qjob(system, FD)                       # Qjob object\n",
    "\n",
    "response = job.run(backend,\n",
    "                   shots = 4000,\n",
    "                   save_Qjob = True,\n",
    "                   save_name = 'example_a_dimer',\n",
    "                   save_checkpoint = True,\n",
    "                  )                          # Run the simulation returning a numpy.ndarray with the results"
   ]
  },
  {
   "cell_type": "markdown",
   "id": "6ef9ad06",
   "metadata": {},
   "source": [
    "Post-processing the results (rotating frame, exponential damping, zero-padding) to obtain the time oscillation and frequency spectra:"
   ]
  },
  {
   "cell_type": "code",
   "execution_count": null,
   "id": "4d6b8b0d",
   "metadata": {},
   "outputs": [],
   "source": [
    "PostProcess(job,\n",
    "            RF_freq = 1.505,\n",
    "            damping_rate = 29.54 * 10**(-3),\n",
    "            pad = 3,\n",
    "           )                                 # Post-process and print the results"
   ]
  },
  {
   "cell_type": "markdown",
   "id": "ac91efdf",
   "metadata": {},
   "source": [
    "## Adding readout-error mitigation"
   ]
  },
  {
   "cell_type": "code",
   "execution_count": null,
   "id": "ccef75ae",
   "metadata": {},
   "outputs": [],
   "source": [
    "from qiskit.utils.mitigation import CompleteMeasFitter\n",
    "from qiskit_ibm_provider import IBMProvider"
   ]
  },
  {
   "cell_type": "markdown",
   "id": "3afc94be",
   "metadata": {},
   "source": [
    "Select a real quantum processor:"
   ]
  },
  {
   "cell_type": "code",
   "execution_count": null,
   "id": "8f660ada",
   "metadata": {},
   "outputs": [],
   "source": [
    "provider = IBMProvider(instance='ibm-q/open/main')\n",
    "real_backend = provider.get_backend('ibmq_manila')"
   ]
  },
  {
   "cell_type": "markdown",
   "id": "2ba33938",
   "metadata": {},
   "source": [
    "Create the noise model (not necessary if using the real_backend as the backend of computation):"
   ]
  },
  {
   "cell_type": "code",
   "execution_count": null,
   "id": "0b007b2a",
   "metadata": {},
   "outputs": [],
   "source": [
    "from qiskit_aer.noise.noise_model import NoiseModel\n",
    "\n",
    "noise_model = NoiseModel().from_backend(real_backend)"
   ]
  },
  {
   "cell_type": "markdown",
   "id": "7f9c0c7c",
   "metadata": {},
   "source": [
    "Create the Qjob object and getting the response function:"
   ]
  },
  {
   "cell_type": "code",
   "execution_count": null,
   "id": "6402f6cb",
   "metadata": {},
   "outputs": [],
   "source": [
    "job = Qjob(system, FD)                       # Qjob object\n",
    "\n",
    "response = job.run(backend,\n",
    "                   shots = 4000,\n",
    "                   save_Qjob = True,\n",
    "                   save_name = 'example_a_dimer_mitigation',\n",
    "                   save_checkpoint = True,\n",
    "                   noise_model = noise_model,\n",
    "                   coupling_map = real_backend.configuration().coupling_map,\n",
    "                   initial_layout = [0, 1, 2],    # An initial_layout specification is necessary to not get errors in Qiskit\n",
    "                   measurement_error_mitigation_cls=CompleteMeasFitter,\n",
    "                   measurement_error_mitigation_shots = 4000,\n",
    "                  )                          # Run the simulation returning a numpy.ndarray with the results"
   ]
  },
  {
   "cell_type": "code",
   "execution_count": null,
   "id": "f991d62d",
   "metadata": {},
   "outputs": [],
   "source": [
    "# For readout-error mitigation on a real device:\n",
    "#\n",
    "# job = Qjob(system, FD)                       # Qjob object\n",
    "#\n",
    "# response = job.run(backend,\n",
    "#                    shots = 4000,\n",
    "#                    save_Qjob = True,\n",
    "#                    save_name = 'example_a_dimer_mitigation',\n",
    "#                    save_checkpoint = True,\n",
    "#                    initial_layout = [0, 1, 2],    # An initial_layout specification is necessary to not get errors in Qiskit\n",
    "#                    measurement_error_mitigation_cls=CompleteMeasFitter,\n",
    "#                    measurement_error_mitigation_shots = 4000,\n",
    "#                   )                          # Run the simulation returning a numpy.ndarray with the results"
   ]
  },
  {
   "cell_type": "markdown",
   "id": "b257a030",
   "metadata": {},
   "source": [
    "Post-processing the results (rotating frame, exponential damping, zero-padding) to obtain the time oscillation and frequency spectra:"
   ]
  },
  {
   "cell_type": "code",
   "execution_count": null,
   "id": "98e0715f",
   "metadata": {},
   "outputs": [],
   "source": [
    "PostProcess(job,\n",
    "            RF_freq = 1.505,\n",
    "            damping_rate = 29.54 * 10**(-3),\n",
    "            pad = 3,\n",
    "           )                                 # Post-process and print the results"
   ]
  }
 ],
 "metadata": {
  "kernelspec": {
   "display_name": "Python 3 (ipykernel)",
   "language": "python",
   "name": "python3"
  },
  "language_info": {
   "codemirror_mode": {
    "name": "ipython",
    "version": 3
   },
   "file_extension": ".py",
   "mimetype": "text/x-python",
   "name": "python",
   "nbconvert_exporter": "python",
   "pygments_lexer": "ipython3",
   "version": "3.10.12"
  }
 },
 "nbformat": 4,
 "nbformat_minor": 5
}
